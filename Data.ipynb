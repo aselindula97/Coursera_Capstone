{
    "cells": [
        {
            "cell_type": "markdown",
            "metadata": {
                "collapsed": true
            },
            "source": "# Fast Food Restaurant Recommendation in Toronto"
        },
        {
            "cell_type": "markdown",
            "metadata": {},
            "source": "## Data"
        },
        {
            "cell_type": "markdown",
            "metadata": {},
            "source": "- As we need to explore, segment, and cluster the neighbourhoods in the city of Toronto, the Toronto neighbourhood data is key for this project\n- However, the neighborhood data is not readily available on the internet. Thus we need to scrap an existing Wikipedia page and wrangle the data, clean it, and then read it into a pandas dataframe so that it is in a structured format.\n- We will use the package called beautifulsoup to scape data from the web page(https://en.wikipedia.org/wiki/Demographics_of_Toronto_neighbourhoods)\n- We will then need to leverage on features in a reliable location information provider namely [Foursquare](https://www.Foursquare.com) to explore the various types of venues and its categories available in each neighbourhood.\n- Then we will also use unsupervised learning method called clustering technique and use the easiest clustering method namely K-Clustering to segment and cluster these neighbourhoods so that we can group them together to understand their similarities."
        }
    ],
    "metadata": {
        "kernelspec": {
            "display_name": "Python 3.6",
            "language": "python",
            "name": "python3"
        },
        "language_info": {
            "codemirror_mode": {
                "name": "ipython",
                "version": 3
            },
            "file_extension": ".py",
            "mimetype": "text/x-python",
            "name": "python",
            "nbconvert_exporter": "python",
            "pygments_lexer": "ipython3",
            "version": "3.6.9"
        }
    },
    "nbformat": 4,
    "nbformat_minor": 1
}